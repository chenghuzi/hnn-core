{
 "cells": [
  {
   "cell_type": "code",
   "execution_count": 15,
   "id": "7b14da8b",
   "metadata": {},
   "outputs": [],
   "source": [
    "%requirejs html2canvas https://html2canvas.hertzen.com/dist/html2canvas"
   ]
  },
  {
   "cell_type": "code",
   "execution_count": 25,
   "id": "d3ebd67d",
   "metadata": {
    "require": [
     "html2canvas"
    ]
   },
   "outputs": [
    {
     "data": {},
     "metadata": {
      "display": {
       "element": {
        "0": {},
        "length": 1
       }
      },
      "finalized": false,
      "frozen": true,
      "frozen_output": {}
     },
     "output_type": "display_data"
    }
   ],
   "source": [
    "js = \"\"\"\n",
    "\n",
    "// const els = document.getElementsByClassName(\".div.jupyter-widgets-view\")[1];\n",
    "const els = document.querySelectorAll('.code_cell')[3];\n",
    "\n",
    "html2canvas(els).then(canvas => {\n",
    "    // document.body.appendChild(canvas)\n",
    "    var data = canvas.toDataURL('image/png');\n",
    "\n",
    "    const newDiv = document.createElement(\"div\");\n",
    "    newDiv.classList.add('output_subarea')\n",
    "\n",
    "    var image = new Image();\n",
    "    image.src = data;\n",
    "    newDiv.appendChild(image);\n",
    "\n",
    "    document.getElementById('notebook-container').appendChild(newDiv);\n",
    "});\n",
    "\n",
    "\"\"\"\n",
    "\n",
    "from jupyter_require import execute_with_requirements\n",
    "\n",
    "execute_with_requirements(js, required=['html2canvas'])"
   ]
  },
  {
   "cell_type": "code",
   "execution_count": 6,
   "id": "952ae299",
   "metadata": {},
   "outputs": [
    {
     "data": {
      "application/vnd.jupyter.widget-view+json": {
       "model_id": "ac8c7cb7b09a4f4eb2dee137d5b3d9e3",
       "version_major": 2,
       "version_minor": 0
      },
      "text/plain": [
       "AppLayout(children=(HTML(value=\"<div\\n            style='background:#8A2BE2;\\n            text-align:center;co…"
      ]
     },
     "metadata": {},
     "output_type": "display_data"
    }
   ],
   "source": [
    "from hnn_core.gui.gui import HNNGUI\n",
    "\n",
    "gui = HNNGUI()\n",
    "gui.compose_widgets()\n",
    "gui.show()"
   ]
  },
  {
   "cell_type": "markdown",
   "id": "706a24ef",
   "metadata": {},
   "source": [
    "First, let us open the drives tab"
   ]
  },
  {
   "cell_type": "code",
   "execution_count": 21,
   "id": "49eb5dfe",
   "metadata": {},
   "outputs": [
    {
     "data": {
      "application/vnd.jupyter.widget-view+json": {
       "model_id": "0b7eada8be6d4a80965bfbf80b39ddf0",
       "version_major": 2,
       "version_minor": 0
      },
      "text/plain": [
       "AppLayout(children=(HTML(value=\"<div\\n            style='background:#8A2BE2;\\n            text-align:center;co…"
      ]
     },
     "metadata": {},
     "output_type": "display_data"
    }
   ],
   "source": [
    "gui.left_tab.selected_index = 2\n",
    "gui.show()"
   ]
  },
  {
   "cell_type": "markdown",
   "id": "9e2b5167",
   "metadata": {},
   "source": [
    "We can explore the drives"
   ]
  },
  {
   "cell_type": "code",
   "execution_count": null,
   "id": "962d020a",
   "metadata": {},
   "outputs": [],
   "source": [
    "# display(gui.drive_boxes)"
   ]
  },
  {
   "cell_type": "markdown",
   "id": "ea59fdc7",
   "metadata": {},
   "source": [
    "We can add a drive"
   ]
  },
  {
   "cell_type": "code",
   "execution_count": null,
   "id": "b4d47259",
   "metadata": {},
   "outputs": [],
   "source": [
    "gui.location_selection.value = 'distal'\n",
    "gui.add_drive_button.click()\n",
    "gui.show()"
   ]
  },
  {
   "cell_type": "markdown",
   "id": "2cbf476d",
   "metadata": {},
   "source": [
    "Finally click on the run button"
   ]
  },
  {
   "cell_type": "code",
   "execution_count": null,
   "id": "249c8d48",
   "metadata": {},
   "outputs": [],
   "source": [
    "gui.run_button.click()"
   ]
  },
  {
   "cell_type": "markdown",
   "id": "3ab60155",
   "metadata": {},
   "source": [
    "Now we can examine the plots"
   ]
  },
  {
   "cell_type": "code",
   "execution_count": null,
   "id": "1a15944f",
   "metadata": {},
   "outputs": [],
   "source": [
    "gui.plot_dropdowns_list[0].value = 'PSD'\n",
    "gui.show()"
   ]
  }
 ],
 "metadata": {
  "kernelspec": {
   "display_name": "Python 3",
   "language": "python",
   "name": "python3"
  },
  "language_info": {
   "codemirror_mode": {
    "name": "ipython",
    "version": 3
   },
   "file_extension": ".py",
   "mimetype": "text/x-python",
   "name": "python",
   "nbconvert_exporter": "python",
   "pygments_lexer": "ipython3",
   "version": "3.7.4"
  },
  "require": {
   "paths": {
    "html2canvas": "https://html2canvas.hertzen.com/dist/html2canvas"
   },
   "shim": {}
  }
 },
 "nbformat": 4,
 "nbformat_minor": 5
}
