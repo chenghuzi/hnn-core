{
 "cells": [
  {
   "cell_type": "code",
   "execution_count": 16,
   "id": "952ae299",
   "metadata": {},
   "outputs": [
    {
     "data": {
      "application/vnd.jupyter.widget-view+json": {
       "model_id": "16bd8c50c8fd4299b7c5f43ab06b6ca1",
       "version_major": 2,
       "version_minor": 0
      },
      "text/plain": [
       "AppLayout(children=(HTML(value=\"<div\\n            style='background:#8A2BE2;\\n            text-align:center;co…"
      ]
     },
     "metadata": {},
     "output_type": "display_data"
    }
   ],
   "source": [
    "from hnn_core.gui.gui import HNNGUI\n",
    "\n",
    "gui = HNNGUI()\n",
    "gui.compose_widgets()\n",
    "gui.show()"
   ]
  },
  {
   "cell_type": "markdown",
   "id": "706a24ef",
   "metadata": {},
   "source": [
    "First, let us open the drives tab"
   ]
  },
  {
   "cell_type": "code",
   "execution_count": 39,
   "id": "49eb5dfe",
   "metadata": {},
   "outputs": [
    {
     "data": {
      "application/vnd.jupyter.widget-view+json": {
       "model_id": "16bd8c50c8fd4299b7c5f43ab06b6ca1",
       "version_major": 2,
       "version_minor": 0
      },
      "text/plain": [
       "AppLayout(children=(HTML(value=\"<div\\n            style='background:#8A2BE2;\\n            text-align:center;co…"
      ]
     },
     "metadata": {},
     "output_type": "display_data"
    }
   ],
   "source": [
    "gui.left_tab.selected_index = 2\n",
    "gui.show()"
   ]
  },
  {
   "cell_type": "markdown",
   "id": "9e2b5167",
   "metadata": {},
   "source": [
    "We can explore the drives"
   ]
  },
  {
   "cell_type": "code",
   "execution_count": 33,
   "id": "962d020a",
   "metadata": {},
   "outputs": [],
   "source": [
    "# display(gui.drive_boxes)"
   ]
  },
  {
   "cell_type": "markdown",
   "id": "ea59fdc7",
   "metadata": {},
   "source": [
    "We can add a drive"
   ]
  },
  {
   "cell_type": "code",
   "execution_count": 40,
   "id": "b4d47259",
   "metadata": {},
   "outputs": [
    {
     "data": {
      "application/vnd.jupyter.widget-view+json": {
       "model_id": "16bd8c50c8fd4299b7c5f43ab06b6ca1",
       "version_major": 2,
       "version_minor": 0
      },
      "text/plain": [
       "AppLayout(children=(HTML(value=\"<div\\n            style='background:#8A2BE2;\\n            text-align:center;co…"
      ]
     },
     "metadata": {},
     "output_type": "display_data"
    }
   ],
   "source": [
    "gui.location_selection.value = 'distal'\n",
    "gui.add_drive_button.click()\n",
    "gui.show()"
   ]
  },
  {
   "cell_type": "markdown",
   "id": "2cbf476d",
   "metadata": {},
   "source": [
    "Finally click on the run button"
   ]
  },
  {
   "cell_type": "code",
   "execution_count": 49,
   "id": "249c8d48",
   "metadata": {},
   "outputs": [
    {
     "data": {
      "application/vnd.jupyter.widget-view+json": {
       "model_id": "16bd8c50c8fd4299b7c5f43ab06b6ca1",
       "version_major": 2,
       "version_minor": 0
      },
      "text/plain": [
       "AppLayout(children=(HTML(value=\"<div\\n            style='background:#8A2BE2;\\n            text-align:center;co…"
      ]
     },
     "metadata": {},
     "output_type": "display_data"
    }
   ],
   "source": [
    "gui.run_button.click()"
   ]
  },
  {
   "cell_type": "markdown",
   "id": "3ab60155",
   "metadata": {},
   "source": [
    "Now we can examine the plots"
   ]
  },
  {
   "cell_type": "code",
   "execution_count": 50,
   "id": "1a15944f",
   "metadata": {},
   "outputs": [
    {
     "data": {
      "application/vnd.jupyter.widget-view+json": {
       "model_id": "16bd8c50c8fd4299b7c5f43ab06b6ca1",
       "version_major": 2,
       "version_minor": 0
      },
      "text/plain": [
       "AppLayout(children=(HTML(value=\"<div\\n            style='background:#8A2BE2;\\n            text-align:center;co…"
      ]
     },
     "metadata": {},
     "output_type": "display_data"
    }
   ],
   "source": [
    "gui.plot_dropdowns_list[0].value = 'PSD'\n",
    "gui.show()"
   ]
  }
 ],
 "metadata": {
  "kernelspec": {
   "display_name": "Python 3",
   "language": "python",
   "name": "python3"
  },
  "language_info": {
   "codemirror_mode": {
    "name": "ipython",
    "version": 3
   },
   "file_extension": ".py",
   "mimetype": "text/x-python",
   "name": "python",
   "nbconvert_exporter": "python",
   "pygments_lexer": "ipython3",
   "version": "3.7.4"
  }
 },
 "nbformat": 4,
 "nbformat_minor": 5
}
