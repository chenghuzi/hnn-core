{
 "cells": [
  {
   "cell_type": "code",
   "execution_count": 12,
   "id": "952ae299",
   "metadata": {
    "require": [
     "html2canvas"
    ]
   },
   "outputs": [
    {
     "data": {
      "application/vnd.jupyter.widget-view+json": {
       "model_id": "7f0a9744bee1427ea8bc6bb2c86fc942",
       "version_major": 2,
       "version_minor": 0
      },
      "text/plain": [
       "AppLayout(children=(HTML(value=\"<div\\n            style='background:#8A2BE2;\\n            text-align:center;co…"
      ]
     },
     "metadata": {},
     "output_type": "display_data"
    }
   ],
   "source": [
    "from hnn_core.gui.gui import HNNGUI\n",
    "\n",
    "gui = HNNGUI()\n",
    "gui.compose_widgets()\n",
    "gui.show()"
   ]
  },
  {
   "cell_type": "code",
   "execution_count": 16,
   "id": "4334b64c",
   "metadata": {},
   "outputs": [
    {
     "data": {
      "application/javascript": [
       "\n",
       "require.config({\n",
       "  paths: {\n",
       "      html2canvas: '//https://html2canvas.hertzen.com/dist/html2canvas'\n",
       "  }\n",
       "});\n",
       "\n",
       "require(['html2canvas'], function(html2canvas) {\n",
       "    // --> this works\n",
       "    // const els = document.getElementsByClassName('code_cell')[1]\n",
       "\n",
       "    // --> but this does not\n",
       "    const els = document.getElementsByClassName(\"p-Widget p-Panel jupyter-widgets widget-container widget-gridbox\")[0];\n",
       "    html2canvas(els, {useCORS: true, allowTaint: true} //foreignObjectRendering: true}\n",
       "    ).then(canvas => {\n",
       "        var data = canvas.toDataURL('image/png');\n",
       "        console.log(data);\n",
       "\n",
       "        const newDiv = document.createElement(\"div\");\n",
       "        newDiv.classList.add('output_subarea')\n",
       "\n",
       "        var image = new Image();\n",
       "        image.src = data;\n",
       "        newDiv.appendChild(image);\n",
       "\n",
       "        document.getElementById('notebook-container').appendChild(newDiv);\n",
       "    });\n",
       "});\n"
      ],
      "text/plain": [
       "<IPython.core.display.Javascript object>"
      ]
     },
     "metadata": {},
     "output_type": "display_data"
    }
   ],
   "source": [
    "%%javascript\n",
    "\n",
    "require.config({\n",
    "  paths: {\n",
    "      html2canvas: '//https://html2canvas.hertzen.com/dist/html2canvas'\n",
    "  }\n",
    "});\n",
    "\n",
    "require(['html2canvas'], function(html2canvas) {\n",
    "    // --> this works\n",
    "    // const els = document.getElementsByClassName('code_cell')[1]\n",
    "\n",
    "    // --> but this does not\n",
    "    const els = document.getElementsByClassName(\"p-Widget p-Panel jupyter-widgets widget-container widget-gridbox\")[0];\n",
    "    html2canvas(els, {useCORS: true, allowTaint: true} //foreignObjectRendering: true}\n",
    "    ).then(canvas => {\n",
    "        var data = canvas.toDataURL('image/png');\n",
    "        console.log(data);\n",
    "\n",
    "        const newDiv = document.createElement(\"div\");\n",
    "        newDiv.classList.add('output_subarea')\n",
    "\n",
    "        var image = new Image();\n",
    "        image.src = data;\n",
    "        newDiv.appendChild(image);\n",
    "\n",
    "        document.getElementById('notebook-container').appendChild(newDiv);\n",
    "    });\n",
    "});"
   ]
  },
  {
   "cell_type": "markdown",
   "id": "706a24ef",
   "metadata": {},
   "source": [
    "First, let us open the drives tab"
   ]
  },
  {
   "cell_type": "code",
   "execution_count": 21,
   "id": "49eb5dfe",
   "metadata": {},
   "outputs": [
    {
     "data": {
      "application/vnd.jupyter.widget-view+json": {
       "model_id": "0b7eada8be6d4a80965bfbf80b39ddf0",
       "version_major": 2,
       "version_minor": 0
      },
      "text/plain": [
       "AppLayout(children=(HTML(value=\"<div\\n            style='background:#8A2BE2;\\n            text-align:center;co…"
      ]
     },
     "metadata": {},
     "output_type": "display_data"
    }
   ],
   "source": [
    "gui.left_tab.selected_index = 2\n",
    "gui.show()"
   ]
  },
  {
   "cell_type": "markdown",
   "id": "9e2b5167",
   "metadata": {},
   "source": [
    "We can explore the drives"
   ]
  },
  {
   "cell_type": "code",
   "execution_count": null,
   "id": "962d020a",
   "metadata": {},
   "outputs": [],
   "source": [
    "# display(gui.drive_boxes)"
   ]
  },
  {
   "cell_type": "markdown",
   "id": "ea59fdc7",
   "metadata": {},
   "source": [
    "We can add a drive"
   ]
  },
  {
   "cell_type": "code",
   "execution_count": null,
   "id": "b4d47259",
   "metadata": {},
   "outputs": [],
   "source": [
    "gui.location_selection.value = 'distal'\n",
    "gui.add_drive_button.click()\n",
    "gui.show()"
   ]
  },
  {
   "cell_type": "markdown",
   "id": "2cbf476d",
   "metadata": {},
   "source": [
    "Finally click on the run button"
   ]
  },
  {
   "cell_type": "code",
   "execution_count": null,
   "id": "249c8d48",
   "metadata": {},
   "outputs": [],
   "source": [
    "gui.run_button.click()"
   ]
  },
  {
   "cell_type": "markdown",
   "id": "3ab60155",
   "metadata": {},
   "source": [
    "Now we can examine the plots"
   ]
  },
  {
   "cell_type": "code",
   "execution_count": null,
   "id": "1a15944f",
   "metadata": {},
   "outputs": [],
   "source": [
    "gui.plot_dropdowns_list[0].value = 'PSD'\n",
    "gui.show()"
   ]
  }
 ],
 "metadata": {
  "kernelspec": {
   "display_name": "Python 3",
   "language": "python",
   "name": "python3"
  },
  "language_info": {
   "codemirror_mode": {
    "name": "ipython",
    "version": 3
   },
   "file_extension": ".py",
   "mimetype": "text/x-python",
   "name": "python",
   "nbconvert_exporter": "python",
   "pygments_lexer": "ipython3",
   "version": "3.7.4"
  },
  "require": {
   "paths": {
    "html2canvas": "https://html2canvas.hertzen.com/dist/html2canvas"
   },
   "shim": {}
  }
 },
 "nbformat": 4,
 "nbformat_minor": 5
}
